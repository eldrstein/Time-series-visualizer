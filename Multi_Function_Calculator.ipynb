{
  "nbformat": 4,
  "nbformat_minor": 0,
  "metadata": {
    "colab": {
      "provenance": [],
      "authorship_tag": "ABX9TyNxohdH93yiLbkHAw+E4fe+"
    },
    "kernelspec": {
      "name": "python3",
      "display_name": "Python 3"
    },
    "language_info": {
      "name": "python"
    }
  },
  "cells": [
    {
      "cell_type": "markdown",
      "source": [
        "Solver proportions"
      ],
      "metadata": {
        "id": "oJwD0s97nAjF"
      }
    },
    {
      "cell_type": "code",
      "execution_count": 2,
      "metadata": {
        "id": "vkk89_Do_rpq",
        "colab": {
          "base_uri": "https://localhost:8080/"
        },
        "outputId": "a0d324c0-9468-4035-abef-339ac3b5c9c5"
      },
      "outputs": [
        {
          "output_type": "stream",
          "name": "stdout",
          "text": [
            "12.0\n"
          ]
        }
      ],
      "source": [
        "# Enter a, b, c, or d. Keep value of 0 for unknown value.\n",
        "a = 1\n",
        "b = 2\n",
        "c = 6\n",
        "d = 0\n",
        "\n",
        "if c == 0 and d == 0:\n",
        "    print(\"Please enter c or d value\")\n",
        "\n",
        "if c == 0 and d != 0:\n",
        "    c = a * d / b\n",
        "    print(c)\n",
        "\n",
        "if d == 0 and c != 0:\n",
        "    d = c * b / a\n",
        "    print(d)\n"
      ]
    },
    {
      "cell_type": "markdown",
      "source": [
        "Solver for x in equations"
      ],
      "metadata": {
        "id": "rWMQIzGdqQjp"
      }
    },
    {
      "cell_type": "code",
      "source": [
        "import sympy # Math package\n",
        "from sympy import symbols\n",
        "from sympy.solvers import solve\n",
        "\n",
        "\n",
        "# Don’t use strings as input to functions. Rather, create the\n",
        "# objects symbolically using Symbols and the appropriate SymPy functions,\n",
        "# and manipulate them.\n",
        "x = symbols('x') # Define variable\n",
        "\n",
        "eq = input('Enter an equation to solve for x: 0 = ')\n",
        "solutions = solve(eq,x)\n",
        "\n",
        "for sol in solutions:\n",
        "    print(\"x = \", sol)"
      ],
      "metadata": {
        "colab": {
          "base_uri": "https://localhost:8080/"
        },
        "id": "F6Wl9EoOo6Oy",
        "outputId": "945cbaa3-ff37-4cd7-d79a-5171a7651015"
      },
      "execution_count": 13,
      "outputs": [
        {
          "output_type": "stream",
          "name": "stdout",
          "text": [
            "Enter an equation to solve for x: 0 = x^2 - 36\n",
            "x =  -6\n",
            "x =  6\n"
          ]
        }
      ]
    },
    {
      "cell_type": "markdown",
      "source": [
        "Factor square roots"
      ],
      "metadata": {
        "id": "Sihm1JqAqVGd"
      }
    },
    {
      "cell_type": "code",
      "source": [
        "import math\n",
        "import sympy\n",
        "from sympy import symbols\n",
        "\n",
        "n = int(input('Without the radical, enter a square root to factor: '))\n",
        "\n",
        "# Use these variables\n",
        "upper_limit = math.floor(math.sqrt(n)) + 1\n",
        "max_factor = 1\n",
        "other_factor = 1\n",
        "square_root = 1\n",
        "\n",
        "# Loop to find maybe_factor with remainder of zero\n",
        "for maybe_factor in range(1, upper_limit):\n",
        "    if n % (maybe_factor**2) == 0:\n",
        "        max_factor = maybe_factor**2\n",
        "\n",
        "# Divide out the greatest square factor\n",
        "other_factor = n/max_factor\n",
        "\n",
        "# Output - keep this:\n",
        "square_root = int(math.sqrt(max_factor))\n",
        "other_factor = int(other_factor)\n",
        "output = square_root*sympy.sqrt(other_factor)\n",
        "print(output)"
      ],
      "metadata": {
        "colab": {
          "base_uri": "https://localhost:8080/"
        },
        "id": "WAta8D4Qpit4",
        "outputId": "32de6005-cc52-4b98-9cc8-b1a0a5f6685d"
      },
      "execution_count": null,
      "outputs": [
        {
          "output_type": "stream",
          "name": "stdout",
          "text": [
            "Without the radical, enter a square root to factor: 8\n",
            "2*sqrt(2)\n"
          ]
        }
      ]
    },
    {
      "cell_type": "markdown",
      "source": [
        "Decimal, fraction, and percent converter"
      ],
      "metadata": {
        "id": "CjCkY8pQqr9D"
      }
    },
    {
      "cell_type": "code",
      "source": [
        "from fractions import Fraction\n",
        "\n",
        "def parse_and_convert(input_str):\n",
        "    input_str = input_str.strip()\n",
        "\n",
        "    # Initialize variables\n",
        "    decimal_value = None\n",
        "    fraction_value = None\n",
        "    percentage_value = None\n",
        "\n",
        "    # Check if it's a percentage\n",
        "    if input_str.endswith('%'):\n",
        "        decimal_value = float(input_str[:-1]) / 100\n",
        "    else:\n",
        "        # Check if it's a fraction\n",
        "        try:\n",
        "            fraction_value = Fraction(input_str)\n",
        "            decimal_value = float(fraction_value)\n",
        "        except ValueError:\n",
        "            pass\n",
        "\n",
        "        # Otherwise, treat it as a float\n",
        "        if decimal_value is None:\n",
        "            try:\n",
        "                decimal_value = float(input_str)\n",
        "            except ValueError:\n",
        "                raise ValueError(\"Invalid input format. Please enter a decimal, fraction, or percentage.\")\n",
        "\n",
        "    # Convert to fraction if not already done\n",
        "    if fraction_value is None:\n",
        "        fraction_value = Fraction(decimal_value).limit_denominator()\n",
        "\n",
        "    # Convert to percentage\n",
        "    percentage_value = decimal_value * 100\n",
        "\n",
        "    # Return all three representations\n",
        "    return decimal_value, fraction_value, percentage_value\n",
        "\n",
        "# Example usage:\n",
        "input_str = input(\"Enter a value (decimal, fraction, or percentage): \")\n",
        "decimal_value, fraction_value, percentage_value = parse_and_convert(input_str)\n",
        "\n",
        "print(f\"Decimal: {decimal_value}\")\n",
        "print(f\"Fraction: {fraction_value}\")\n",
        "print(f\"Percentage: {percentage_value}%\")\n"
      ],
      "metadata": {
        "colab": {
          "base_uri": "https://localhost:8080/"
        },
        "id": "Gi_SRFdcqx_c",
        "outputId": "3f9a6a44-ef82-4e3e-a970-d76a503123a6"
      },
      "execution_count": 17,
      "outputs": [
        {
          "output_type": "stream",
          "name": "stdout",
          "text": [
            "Enter a value (decimal, fraction, or percentage): 3/7\n",
            "Decimal: 0.42857142857142855\n",
            "Fraction: 3/7\n",
            "Percentage: 42.857142857142854%\n"
          ]
        }
      ]
    },
    {
      "cell_type": "code",
      "source": [],
      "metadata": {
        "id": "-RlKef4KrVZ8"
      },
      "execution_count": 14,
      "outputs": []
    }
  ]
}